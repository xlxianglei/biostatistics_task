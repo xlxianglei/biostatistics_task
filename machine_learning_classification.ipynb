{
 "cells": [
  {
   "cell_type": "markdown",
   "id": "c2f56503",
   "metadata": {},
   "source": [
    "# 分类数据过程"
   ]
  },
  {
   "cell_type": "code",
   "execution_count": 1,
   "id": "7ab797c1",
   "metadata": {},
   "outputs": [],
   "source": [
    "# 导入分类数据（5mer）\n",
    "import pandas as pd\n",
    "import numpy as np\n",
    "pos_5mer = pd.read_csv('/home/xlxiang/biostatistics/data/Classification/pos_5mer.csv',header=None)\n",
    "neg_5mer = pd.read_csv('/home/xlxiang/biostatistics/data/Classification/neg_5mer.csv',header=None)\n",
    "all_data = pd.concat([pos_5mer,neg_5mer],axis=0)\n",
    "all_data[1024]=np.concatenate((np.ones(6606,dtype=np.int64),np.zeros(6606,dtype=np.int64)))"
   ]
  },
  {
   "cell_type": "code",
   "execution_count": 2,
   "id": "5f5c95d8",
   "metadata": {},
   "outputs": [],
   "source": [
    "#划分为训练集和测试集\n",
    "from sklearn.model_selection import train_test_split\n",
    "X_train, X_test, y_train, y_test = train_test_split(all_data.iloc[:,:1024], all_data.iloc[:,1024], random_state=2023)\n",
    "#计算训练集和测试集的acc、precision、recall、f1 score、auc\n",
    "from sklearn.metrics import accuracy_score\n",
    "from sklearn.metrics import precision_score\n",
    "from sklearn.metrics import recall_score\n",
    "from sklearn.metrics import f1_score\n",
    "from sklearn.metrics import roc_auc_score\n",
    "def calculate_result(model,x_train, y_train,x_test, y_test):\n",
    "    train_predict = model.predict(x_train)\n",
    "    test_predict = model.predict(x_test)\n",
    "    train_pro = model.predict_proba(x_train)\n",
    "    test_pro = model.predict_proba(x_test)\n",
    "\n",
    "    train_acc = accuracy_score(y_train, train_predict)\n",
    "    train_precision = precision_score(y_train, train_predict)\n",
    "    train_recall = recall_score(y_train, train_predict)\n",
    "    train_f1 = f1_score(y_train, train_predict)\n",
    "    train_auc = roc_auc_score(y_train, train_pro[:,1])\n",
    "\n",
    "    test_acc = accuracy_score(y_test, test_predict)\n",
    "    test_precision = precision_score(y_test, test_predict)\n",
    "    test_recall = recall_score(y_test, test_predict)\n",
    "    test_f1 = f1_score(y_test, test_predict)\n",
    "    test_auc = roc_auc_score(y_test, test_pro[:,1])\n",
    "\n",
    "    print(\"train_acc: {0:.3f}, test_acc: {1:.3f}\".format(train_acc, test_acc))\n",
    "    print(\"train_pre: {0:.3f}, test_pre: {1:.3f}\".format(train_precision, test_precision))\n",
    "    print(\"train_recall: {0:.3f}, test_recall: {1:.3f}\".format(train_recall, test_recall))\n",
    "    print(\"train_f1: {0:.3f}, test_f1: {1:.3f}\".format(train_f1, test_f1))\n",
    "    print(\"train_auc: {0:.3f}, test_auc: {1:.3f}\".format(train_auc, test_auc))\n",
    "    return None"
   ]
  },
  {
   "cell_type": "markdown",
   "id": "21157a41",
   "metadata": {},
   "source": [
    "## logistic regression"
   ]
  },
  {
   "cell_type": "code",
   "execution_count": 5,
   "id": "302ac913",
   "metadata": {},
   "outputs": [
    {
     "name": "stderr",
     "output_type": "stream",
     "text": [
      "/home/xlxiang/anaconda3/envs/tf_2.4/lib/python3.7/site-packages/sklearn/model_selection/_validation.py:372: FitFailedWarning: \n",
      "90 fits failed out of a total of 180.\n",
      "The score on these train-test partitions for these parameters will be set to nan.\n",
      "If these failures are not expected, you can try to debug them by setting error_score='raise'.\n",
      "\n",
      "Below are more details about the failures:\n",
      "--------------------------------------------------------------------------------\n",
      "90 fits failed with the following error:\n",
      "Traceback (most recent call last):\n",
      "  File \"/home/xlxiang/anaconda3/envs/tf_2.4/lib/python3.7/site-packages/sklearn/model_selection/_validation.py\", line 680, in _fit_and_score\n",
      "    estimator.fit(X_train, y_train, **fit_params)\n",
      "  File \"/home/xlxiang/anaconda3/envs/tf_2.4/lib/python3.7/site-packages/sklearn/linear_model/_logistic.py\", line 1461, in fit\n",
      "    solver = _check_solver(self.solver, self.penalty, self.dual)\n",
      "  File \"/home/xlxiang/anaconda3/envs/tf_2.4/lib/python3.7/site-packages/sklearn/linear_model/_logistic.py\", line 449, in _check_solver\n",
      "    % (solver, penalty)\n",
      "ValueError: Solver lbfgs supports only 'l2' or 'none' penalties, got l1 penalty.\n",
      "\n",
      "  warnings.warn(some_fits_failed_message, FitFailedWarning)\n",
      "/home/xlxiang/anaconda3/envs/tf_2.4/lib/python3.7/site-packages/sklearn/model_selection/_search.py:972: UserWarning: One or more of the test scores are non-finite: [       nan 0.87708192        nan 0.89635783        nan 0.90180717\n",
      "        nan 0.90503664        nan 0.90594482        nan 0.90977973\n",
      "        nan 0.91018388        nan 0.91048681        nan 0.91028519]\n",
      "  category=UserWarning,\n",
      "/home/xlxiang/anaconda3/envs/tf_2.4/lib/python3.7/site-packages/sklearn/linear_model/_logistic.py:818: ConvergenceWarning: lbfgs failed to converge (status=1):\n",
      "STOP: TOTAL NO. of ITERATIONS REACHED LIMIT.\n",
      "\n",
      "Increase the number of iterations (max_iter) or scale the data as shown in:\n",
      "    https://scikit-learn.org/stable/modules/preprocessing.html\n",
      "Please also refer to the documentation for alternative solver options:\n",
      "    https://scikit-learn.org/stable/modules/linear_model.html#logistic-regression\n",
      "  extra_warning_msg=_LOGISTIC_SOLVER_CONVERGENCE_MSG,\n"
     ]
    },
    {
     "name": "stdout",
     "output_type": "stream",
     "text": [
      "Best parameters: {'C': 800, 'penalty': 'l2'}\n",
      "Best cross-validation score: 0.91\n"
     ]
    },
    {
     "name": "stderr",
     "output_type": "stream",
     "text": [
      "/home/xlxiang/anaconda3/envs/tf_2.4/lib/python3.7/site-packages/sklearn/model_selection/_validation.py:372: FitFailedWarning: \n",
      "90 fits failed out of a total of 180.\n",
      "The score on these train-test partitions for these parameters will be set to nan.\n",
      "If these failures are not expected, you can try to debug them by setting error_score='raise'.\n",
      "\n",
      "Below are more details about the failures:\n",
      "--------------------------------------------------------------------------------\n",
      "90 fits failed with the following error:\n",
      "Traceback (most recent call last):\n",
      "  File \"/home/xlxiang/anaconda3/envs/tf_2.4/lib/python3.7/site-packages/sklearn/model_selection/_validation.py\", line 680, in _fit_and_score\n",
      "    estimator.fit(X_train, y_train, **fit_params)\n",
      "  File \"/home/xlxiang/anaconda3/envs/tf_2.4/lib/python3.7/site-packages/sklearn/linear_model/_logistic.py\", line 1461, in fit\n",
      "    solver = _check_solver(self.solver, self.penalty, self.dual)\n",
      "  File \"/home/xlxiang/anaconda3/envs/tf_2.4/lib/python3.7/site-packages/sklearn/linear_model/_logistic.py\", line 449, in _check_solver\n",
      "    % (solver, penalty)\n",
      "ValueError: Solver lbfgs supports only 'l2' or 'none' penalties, got l1 penalty.\n",
      "\n",
      "  warnings.warn(some_fits_failed_message, FitFailedWarning)\n",
      "/home/xlxiang/anaconda3/envs/tf_2.4/lib/python3.7/site-packages/sklearn/model_selection/_search.py:972: UserWarning: One or more of the test scores are non-finite: [       nan 0.87708192        nan 0.89635783        nan 0.90180717\n",
      "        nan 0.90503664        nan 0.90594482        nan 0.90977973\n",
      "        nan 0.91018388        nan 0.91048681        nan 0.91028519]\n",
      "  category=UserWarning,\n"
     ]
    },
    {
     "name": "stdout",
     "output_type": "stream",
     "text": [
      "train_acc: 0.929, test_acc: 0.906\n",
      "train_pre: 0.927, test_pre: 0.907\n",
      "train_recall: 0.931, test_recall: 0.907\n",
      "train_f1: 0.929, test_f1: 0.907\n",
      "train_auc: 0.981, test_auc: 0.968\n"
     ]
    },
    {
     "name": "stderr",
     "output_type": "stream",
     "text": [
      "/home/xlxiang/anaconda3/envs/tf_2.4/lib/python3.7/site-packages/sklearn/linear_model/_logistic.py:818: ConvergenceWarning: lbfgs failed to converge (status=1):\n",
      "STOP: TOTAL NO. of ITERATIONS REACHED LIMIT.\n",
      "\n",
      "Increase the number of iterations (max_iter) or scale the data as shown in:\n",
      "    https://scikit-learn.org/stable/modules/preprocessing.html\n",
      "Please also refer to the documentation for alternative solver options:\n",
      "    https://scikit-learn.org/stable/modules/linear_model.html#logistic-regression\n",
      "  extra_warning_msg=_LOGISTIC_SOLVER_CONVERGENCE_MSG,\n"
     ]
    }
   ],
   "source": [
    "from sklearn.linear_model import LogisticRegression\n",
    "from sklearn.model_selection import cross_val_score\n",
    "from sklearn.model_selection import GridSearchCV\n",
    "#Logistic寻参\n",
    "params = {'penalty': ['l1', 'l2'],\n",
    "          'C': [10, 50, 100, 150, 200, 500, 600, 800, 1000]}\n",
    "model_logistic = GridSearchCV(LogisticRegression(), param_grid=params, cv=10, n_jobs = -1)\n",
    "model_logistic.fit(X_train, y_train)\n",
    "print(\"Best parameters: {}\".format(model_logistic.best_params_))\n",
    "print(\"Best cross-validation score: {:.2f}\".format(model_logistic.best_score_))\n",
    "calculate_result(model_logistic,X_train,y_train,X_test,y_test)"
   ]
  },
  {
   "cell_type": "markdown",
   "id": "532cde40",
   "metadata": {},
   "source": [
    "## KNN"
   ]
  },
  {
   "cell_type": "code",
   "execution_count": 9,
   "id": "557232c3",
   "metadata": {},
   "outputs": [
    {
     "name": "stdout",
     "output_type": "stream",
     "text": [
      "Best parameters: {'n_neighbors': 17, 'p': 2}\n",
      "Best cross-validation score: 0.90\n",
      "train_acc: 0.916, test_acc: 0.897\n",
      "train_pre: 0.942, test_pre: 0.927\n",
      "train_recall: 0.886, test_recall: 0.863\n",
      "train_f1: 0.914, test_f1: 0.894\n",
      "train_auc: 0.978, test_auc: 0.965\n"
     ]
    }
   ],
   "source": [
    "from sklearn.neighbors import KNeighborsClassifier\n",
    "from sklearn.model_selection import cross_val_score\n",
    "from sklearn.model_selection import GridSearchCV\n",
    "#KNN寻参\n",
    "params = {'p': [1,2], 'n_neighbors': [i for i in range(3, 25, 2)]}\n",
    "model_knn = GridSearchCV(KNeighborsClassifier(), param_grid=params, cv=10, n_jobs = -1)\n",
    "model_knn.fit(X_train, y_train)\n",
    "print(\"Best parameters: {}\".format(model_knn.best_params_))\n",
    "print(\"Best cross-validation score: {:.2f}\".format(model_knn.best_score_))\n",
    "calculate_result(model_knn,X_train,y_train,X_test,y_test)"
   ]
  },
  {
   "cell_type": "markdown",
   "id": "546164bf",
   "metadata": {},
   "source": [
    "## LDA"
   ]
  },
  {
   "cell_type": "code",
   "execution_count": 12,
   "id": "ea6bec96",
   "metadata": {},
   "outputs": [
    {
     "name": "stdout",
     "output_type": "stream",
     "text": [
      "train_acc: 0.932, test_acc: 0.896\n",
      "train_pre: 0.929, test_pre: 0.898\n",
      "train_recall: 0.935, test_recall: 0.895\n",
      "train_f1: 0.932, test_f1: 0.896\n",
      "train_auc: 0.982, test_auc: 0.962\n"
     ]
    }
   ],
   "source": [
    "from sklearn import discriminant_analysis\n",
    "#LDA\n",
    "lda = discriminant_analysis.LinearDiscriminantAnalysis()\n",
    "calculate_result(lda,X_train,y_train,X_test,y_test)"
   ]
  },
  {
   "cell_type": "markdown",
   "id": "1396fda9",
   "metadata": {},
   "source": [
    "## SVM"
   ]
  },
  {
   "cell_type": "code",
   "execution_count": 3,
   "id": "9a8d90f4",
   "metadata": {},
   "outputs": [
    {
     "name": "stdout",
     "output_type": "stream",
     "text": [
      "Best parameters: {'C': 10, 'gamma': 10, 'kernel': 'rbf'}\n",
      "Best cross-validation score: 0.92\n",
      "train_acc: 0.933, test_acc: 0.909\n",
      "train_pre: 0.926, test_pre: 0.905\n",
      "train_recall: 0.940, test_recall: 0.916\n",
      "train_f1: 0.933, test_f1: 0.910\n",
      "train_auc: 0.981, test_auc: 0.969\n"
     ]
    }
   ],
   "source": [
    "from sklearn.svm import SVC\n",
    "from sklearn.model_selection import cross_val_score\n",
    "from sklearn.model_selection import GridSearchCV\n",
    "#SVM寻参\n",
    "params = [\n",
    "    {'kernel': ['linear'], 'C': [0.01,0.1,1,10]},\n",
    "    {'kernel': ['rbf'], 'C': [10,100,500], 'gamma': [0.01,0.1,1,10]},\n",
    "]\n",
    "model_svm = GridSearchCV(SVC(probability=True), param_grid=params, cv=10, n_jobs = 5)\n",
    "model_svm.fit(X_train, y_train)\n",
    "print(\"Best parameters: {}\".format(model_svm.best_params_))\n",
    "print(\"Best cross-validation score: {:.2f}\".format(model_svm.best_score_))\n",
    "calculate_result(model_svm,X_train,y_train,X_test,y_test)"
   ]
  },
  {
   "cell_type": "markdown",
   "id": "2a7f0805",
   "metadata": {},
   "source": [
    "## RF"
   ]
  },
  {
   "cell_type": "code",
   "execution_count": 5,
   "id": "a5e5ce21",
   "metadata": {},
   "outputs": [
    {
     "name": "stdout",
     "output_type": "stream",
     "text": [
      "Best parameters: {'max_depth': 30, 'max_features': 65, 'n_estimators': 600}\n",
      "Best cross-validation score: 0.90\n",
      "train_acc: 1.000, test_acc: 0.900\n",
      "train_pre: 1.000, test_pre: 0.882\n",
      "train_recall: 1.000, test_recall: 0.925\n",
      "train_f1: 1.000, test_f1: 0.903\n",
      "train_auc: 1.000, test_auc: 0.964\n"
     ]
    }
   ],
   "source": [
    "from sklearn.ensemble import RandomForestClassifier\n",
    "from sklearn.model_selection import cross_val_score\n",
    "from sklearn.model_selection import GridSearchCV\n",
    "#RF寻参\n",
    "params = {'n_estimators':range(300,1000,100),\n",
    "    'max_depth':range(6,43,6),\n",
    "    'max_features': range(30,90,5)}\n",
    "model_rf = GridSearchCV(RandomForestClassifier(),param_grid=params, cv=10, n_jobs=5)\n",
    "model_rf.fit(X_train, y_train)\n",
    "print(\"Best parameters: {}\".format(model_rf.best_params_))\n",
    "print(\"Best cross-validation score: {:.2f}\".format(model_rf.best_score_))\n",
    "calculate_result(model_rf,X_train,y_train,X_test,y_test)"
   ]
  },
  {
   "cell_type": "code",
   "execution_count": null,
   "id": "74e760cb",
   "metadata": {},
   "outputs": [],
   "source": []
  }
 ],
 "metadata": {
  "kernelspec": {
   "display_name": "Python [conda env:tf_2.4] *",
   "language": "python",
   "name": "conda-env-tf_2.4-py"
  },
  "language_info": {
   "codemirror_mode": {
    "name": "ipython",
    "version": 3
   },
   "file_extension": ".py",
   "mimetype": "text/x-python",
   "name": "python",
   "nbconvert_exporter": "python",
   "pygments_lexer": "ipython3",
   "version": "3.7.16"
  },
  "varInspector": {
   "cols": {
    "lenName": 16,
    "lenType": 16,
    "lenVar": 40
   },
   "kernels_config": {
    "python": {
     "delete_cmd_postfix": "",
     "delete_cmd_prefix": "del ",
     "library": "var_list.py",
     "varRefreshCmd": "print(var_dic_list())"
    },
    "r": {
     "delete_cmd_postfix": ") ",
     "delete_cmd_prefix": "rm(",
     "library": "var_list.r",
     "varRefreshCmd": "cat(var_dic_list()) "
    }
   },
   "types_to_exclude": [
    "module",
    "function",
    "builtin_function_or_method",
    "instance",
    "_Feature"
   ],
   "window_display": false
  }
 },
 "nbformat": 4,
 "nbformat_minor": 5
}
