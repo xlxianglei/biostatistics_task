{
 "cells": [
  {
   "cell_type": "markdown",
   "id": "f6c6f7a3",
   "metadata": {},
   "source": [
    "# 回归问题分析"
   ]
  },
  {
   "cell_type": "code",
   "execution_count": 1,
   "id": "5b783faa",
   "metadata": {},
   "outputs": [],
   "source": [
    "import pandas as pd\n",
    "import numpy as np\n",
    "import numpy as np"
   ]
  },
  {
   "cell_type": "code",
   "execution_count": 2,
   "id": "aa8246f3",
   "metadata": {},
   "outputs": [],
   "source": [
    "x_5mer = pd.read_csv('/home/xlxiang/biostatistics/data/Rregression/x-2k_sequence_5mer.csv',header=None)\n",
    "y = pd.read_csv('/home/xlxiang/biostatistics/data/Rregression/y.csv',index_col=0)\n",
    "y = np.log2(y['TPM'].values+1)\n",
    "x_5mer[1024]=y"
   ]
  },
  {
   "cell_type": "code",
   "execution_count": 3,
   "id": "50a0f2b3",
   "metadata": {},
   "outputs": [
    {
     "name": "stdout",
     "output_type": "stream",
     "text": [
      "41800\n",
      "13934\n"
     ]
    }
   ],
   "source": [
    "from sklearn.model_selection import train_test_split\n",
    "#划分为训练集和测试集\n",
    "X_train, X_test, y_train, y_test = train_test_split(x_5mer.iloc[:,:1024], x_5mer.iloc[:,1024], random_state=2023)\n",
    "print(len(X_train))\n",
    "print(len(X_test))"
   ]
  },
  {
   "cell_type": "code",
   "execution_count": 4,
   "id": "06ae9009",
   "metadata": {},
   "outputs": [],
   "source": [
    "#计算训练集和测试集的pearsonr和r2\n",
    "from scipy.stats import pearsonr\n",
    "from sklearn.metrics import r2_score\n",
    "def calculate_result(model,x_train, y_train,x_test, y_test):\n",
    "    y_pred_train = model.predict(x_train)\n",
    "    y_pred_test = model.predict(x_test)\n",
    "    train_pearsonr = pearsonr(y_train, y_pred_train)[0]\n",
    "    test_pearsonr = pearsonr(y_test, y_pred_test)[0]\n",
    "    train_r2 = r2_score(y_train, y_pred_train)\n",
    "    test_r2 = r2_score(y_test, y_pred_test)\n",
    "    print(\"train_pearsonr: {0:.3f}, test_pearsonr: {1:.3f}\".format(train_pearsonr,test_pearsonr))\n",
    "    print(\"train_r2: {0:.3f}, test_r2: {1:.3f}\".format(train_r2, test_r2))\n",
    "\n",
    "    return None"
   ]
  },
  {
   "cell_type": "markdown",
   "id": "2b8e41f6",
   "metadata": {},
   "source": [
    "## KNN"
   ]
  },
  {
   "cell_type": "code",
   "execution_count": 5,
   "id": "19dacd84",
   "metadata": {},
   "outputs": [
    {
     "name": "stdout",
     "output_type": "stream",
     "text": [
      "Best parameters: {'n_neighbors': 20}\n",
      "Best cross-validation score: 0.45\n",
      "train_pearsonr: 0.714, test_pearsonr: 0.680\n",
      "train_r2: 0.506, test_r2: 0.462\n"
     ]
    }
   ],
   "source": [
    "from sklearn.neighbors import KNeighborsRegressor\n",
    "from sklearn.model_selection import cross_val_score\n",
    "from sklearn.model_selection import GridSearchCV\n",
    "#KNN 寻参\n",
    "params = {'n_neighbors': [10,15,20,25,30]}\n",
    "model_knn = GridSearchCV(KNeighborsRegressor(),param_grid=params,cv=10,n_jobs=3)\n",
    "model_knn.fit(X_train, y_train)\n",
    "print(\"Best parameters: {}\".format(model_knn.best_params_))\n",
    "print(\"Best cross-validation score: {:.2f}\".format(model_knn.best_score_))\n",
    "calculate_result(model_knn,X_train,y_train,X_test,y_test)"
   ]
  },
  {
   "cell_type": "markdown",
   "id": "1bab7286",
   "metadata": {},
   "source": [
    "## linear regression"
   ]
  },
  {
   "cell_type": "code",
   "execution_count": 6,
   "id": "8a4a13e2",
   "metadata": {},
   "outputs": [
    {
     "name": "stdout",
     "output_type": "stream",
     "text": [
      "train_pearsonr: 0.677, test_pearsonr: 0.657\n",
      "train_r2: 0.459, test_r2: 0.432\n"
     ]
    }
   ],
   "source": [
    "from sklearn.linear_model import LinearRegression\n",
    "lr = LinearRegression().fit(X_train, y_train)\n",
    "calculate_result(lr,X_train,y_train,X_test,y_test)"
   ]
  },
  {
   "cell_type": "markdown",
   "id": "f07120dd",
   "metadata": {},
   "source": [
    "## Lasso"
   ]
  },
  {
   "cell_type": "code",
   "execution_count": 9,
   "id": "1ffae4a6",
   "metadata": {},
   "outputs": [
    {
     "name": "stdout",
     "output_type": "stream",
     "text": [
      "Best parameters: {'alpha': 1e-06}\n",
      "Best cross-validation score: 0.43\n",
      "train_pearsonr: 0.674, test_pearsonr: 0.659\n",
      "train_r2: 0.455, test_r2: 0.435\n"
     ]
    },
    {
     "name": "stderr",
     "output_type": "stream",
     "text": [
      "/home/xlxiang/anaconda3/envs/tf_2.4/lib/python3.7/site-packages/sklearn/linear_model/_coordinate_descent.py:648: ConvergenceWarning: Objective did not converge. You might want to increase the number of iterations, check the scale of the features or consider increasing regularisation. Duality gap: 1.858e+02, tolerance: 3.679e+01\n",
      "  coef_, l1_reg, l2_reg, X, y, max_iter, tol, rng, random, positive\n",
      "/home/xlxiang/anaconda3/envs/tf_2.4/lib/python3.7/site-packages/sklearn/linear_model/_coordinate_descent.py:648: ConvergenceWarning: Objective did not converge. You might want to increase the number of iterations, check the scale of the features or consider increasing regularisation. Duality gap: 5.583e+04, tolerance: 3.306e+01\n",
      "  coef_, l1_reg, l2_reg, X, y, max_iter, tol, rng, random, positive\n",
      "/home/xlxiang/anaconda3/envs/tf_2.4/lib/python3.7/site-packages/sklearn/linear_model/_coordinate_descent.py:648: ConvergenceWarning: Objective did not converge. You might want to increase the number of iterations, check the scale of the features or consider increasing regularisation. Duality gap: 3.485e+04, tolerance: 3.317e+01\n",
      "  coef_, l1_reg, l2_reg, X, y, max_iter, tol, rng, random, positive\n",
      "/home/xlxiang/anaconda3/envs/tf_2.4/lib/python3.7/site-packages/sklearn/linear_model/_coordinate_descent.py:648: ConvergenceWarning: Objective did not converge. You might want to increase the number of iterations, check the scale of the features or consider increasing regularisation. Duality gap: 5.054e+04, tolerance: 3.311e+01\n",
      "  coef_, l1_reg, l2_reg, X, y, max_iter, tol, rng, random, positive\n",
      "/home/xlxiang/anaconda3/envs/tf_2.4/lib/python3.7/site-packages/sklearn/linear_model/_coordinate_descent.py:648: ConvergenceWarning: Objective did not converge. You might want to increase the number of iterations, check the scale of the features or consider increasing regularisation. Duality gap: 6.006e+04, tolerance: 3.306e+01\n",
      "  coef_, l1_reg, l2_reg, X, y, max_iter, tol, rng, random, positive\n",
      "/home/xlxiang/anaconda3/envs/tf_2.4/lib/python3.7/site-packages/sklearn/linear_model/_coordinate_descent.py:648: ConvergenceWarning: Objective did not converge. You might want to increase the number of iterations, check the scale of the features or consider increasing regularisation. Duality gap: 4.933e+02, tolerance: 3.312e+01\n",
      "  coef_, l1_reg, l2_reg, X, y, max_iter, tol, rng, random, positive\n",
      "/home/xlxiang/anaconda3/envs/tf_2.4/lib/python3.7/site-packages/sklearn/linear_model/_coordinate_descent.py:648: ConvergenceWarning: Objective did not converge. You might want to increase the number of iterations, check the scale of the features or consider increasing regularisation. Duality gap: 3.259e+02, tolerance: 3.312e+01\n",
      "  coef_, l1_reg, l2_reg, X, y, max_iter, tol, rng, random, positive\n",
      "/home/xlxiang/anaconda3/envs/tf_2.4/lib/python3.7/site-packages/sklearn/linear_model/_coordinate_descent.py:648: ConvergenceWarning: Objective did not converge. You might want to increase the number of iterations, check the scale of the features or consider increasing regularisation. Duality gap: 9.864e+01, tolerance: 3.306e+01\n",
      "  coef_, l1_reg, l2_reg, X, y, max_iter, tol, rng, random, positive\n",
      "/home/xlxiang/anaconda3/envs/tf_2.4/lib/python3.7/site-packages/sklearn/linear_model/_coordinate_descent.py:648: ConvergenceWarning: Objective did not converge. You might want to increase the number of iterations, check the scale of the features or consider increasing regularisation. Duality gap: 5.334e+04, tolerance: 3.312e+01\n",
      "  coef_, l1_reg, l2_reg, X, y, max_iter, tol, rng, random, positive\n",
      "/home/xlxiang/anaconda3/envs/tf_2.4/lib/python3.7/site-packages/sklearn/linear_model/_coordinate_descent.py:648: ConvergenceWarning: Objective did not converge. You might want to increase the number of iterations, check the scale of the features or consider increasing regularisation. Duality gap: 5.787e+04, tolerance: 3.316e+01\n",
      "  coef_, l1_reg, l2_reg, X, y, max_iter, tol, rng, random, positive\n",
      "/home/xlxiang/anaconda3/envs/tf_2.4/lib/python3.7/site-packages/sklearn/linear_model/_coordinate_descent.py:648: ConvergenceWarning: Objective did not converge. You might want to increase the number of iterations, check the scale of the features or consider increasing regularisation. Duality gap: 5.287e+04, tolerance: 3.306e+01\n",
      "  coef_, l1_reg, l2_reg, X, y, max_iter, tol, rng, random, positive\n",
      "/home/xlxiang/anaconda3/envs/tf_2.4/lib/python3.7/site-packages/sklearn/linear_model/_coordinate_descent.py:648: ConvergenceWarning: Objective did not converge. You might want to increase the number of iterations, check the scale of the features or consider increasing regularisation. Duality gap: 1.717e+02, tolerance: 3.309e+01\n",
      "  coef_, l1_reg, l2_reg, X, y, max_iter, tol, rng, random, positive\n",
      "/home/xlxiang/anaconda3/envs/tf_2.4/lib/python3.7/site-packages/sklearn/linear_model/_coordinate_descent.py:648: ConvergenceWarning: Objective did not converge. You might want to increase the number of iterations, check the scale of the features or consider increasing regularisation. Duality gap: 2.604e+02, tolerance: 3.317e+01\n",
      "  coef_, l1_reg, l2_reg, X, y, max_iter, tol, rng, random, positive\n",
      "/home/xlxiang/anaconda3/envs/tf_2.4/lib/python3.7/site-packages/sklearn/linear_model/_coordinate_descent.py:648: ConvergenceWarning: Objective did not converge. You might want to increase the number of iterations, check the scale of the features or consider increasing regularisation. Duality gap: 2.542e+02, tolerance: 3.311e+01\n",
      "  coef_, l1_reg, l2_reg, X, y, max_iter, tol, rng, random, positive\n",
      "/home/xlxiang/anaconda3/envs/tf_2.4/lib/python3.7/site-packages/sklearn/linear_model/_coordinate_descent.py:648: ConvergenceWarning: Objective did not converge. You might want to increase the number of iterations, check the scale of the features or consider increasing regularisation. Duality gap: 1.189e+02, tolerance: 3.319e+01\n",
      "  coef_, l1_reg, l2_reg, X, y, max_iter, tol, rng, random, positive\n",
      "/home/xlxiang/anaconda3/envs/tf_2.4/lib/python3.7/site-packages/sklearn/linear_model/_coordinate_descent.py:648: ConvergenceWarning: Objective did not converge. You might want to increase the number of iterations, check the scale of the features or consider increasing regularisation. Duality gap: 4.743e+04, tolerance: 3.309e+01\n",
      "  coef_, l1_reg, l2_reg, X, y, max_iter, tol, rng, random, positive\n",
      "/home/xlxiang/anaconda3/envs/tf_2.4/lib/python3.7/site-packages/sklearn/linear_model/_coordinate_descent.py:648: ConvergenceWarning: Objective did not converge. You might want to increase the number of iterations, check the scale of the features or consider increasing regularisation. Duality gap: 3.753e+04, tolerance: 3.312e+01\n",
      "  coef_, l1_reg, l2_reg, X, y, max_iter, tol, rng, random, positive\n",
      "/home/xlxiang/anaconda3/envs/tf_2.4/lib/python3.7/site-packages/sklearn/linear_model/_coordinate_descent.py:648: ConvergenceWarning: Objective did not converge. You might want to increase the number of iterations, check the scale of the features or consider increasing regularisation. Duality gap: 5.191e+04, tolerance: 3.319e+01\n",
      "  coef_, l1_reg, l2_reg, X, y, max_iter, tol, rng, random, positive\n",
      "/home/xlxiang/anaconda3/envs/tf_2.4/lib/python3.7/site-packages/sklearn/linear_model/_coordinate_descent.py:648: ConvergenceWarning: Objective did not converge. You might want to increase the number of iterations, check the scale of the features or consider increasing regularisation. Duality gap: 9.509e+01, tolerance: 3.306e+01\n",
      "  coef_, l1_reg, l2_reg, X, y, max_iter, tol, rng, random, positive\n",
      "/home/xlxiang/anaconda3/envs/tf_2.4/lib/python3.7/site-packages/sklearn/linear_model/_coordinate_descent.py:648: ConvergenceWarning: Objective did not converge. You might want to increase the number of iterations, check the scale of the features or consider increasing regularisation. Duality gap: 2.585e+02, tolerance: 3.316e+01\n",
      "  coef_, l1_reg, l2_reg, X, y, max_iter, tol, rng, random, positive\n",
      "/home/xlxiang/anaconda3/envs/tf_2.4/lib/python3.7/site-packages/sklearn/linear_model/_coordinate_descent.py:648: ConvergenceWarning: Objective did not converge. You might want to increase the number of iterations, check the scale of the features or consider increasing regularisation. Duality gap: 2.378e+02, tolerance: 3.306e+01\n",
      "  coef_, l1_reg, l2_reg, X, y, max_iter, tol, rng, random, positive\n"
     ]
    }
   ],
   "source": [
    "from sklearn.linear_model import Lasso\n",
    "from sklearn.model_selection import cross_val_score\n",
    "from sklearn.model_selection import GridSearchCV\n",
    "params = {'alpha': [1e-7,1e-6,0.00001,0.0001]}\n",
    "model_lasso = GridSearchCV(Lasso(max_iter=2000),param_grid=params,cv=10,n_jobs=3)\n",
    "model_lasso.fit(X_train, y_train)\n",
    "print(\"Best parameters: {}\".format(model_lasso.best_params_))\n",
    "print(\"Best cross-validation score: {:.2f}\".format(model_lasso.best_score_))\n",
    "calculate_result(model_lasso,X_train,y_train,X_test,y_test)"
   ]
  },
  {
   "cell_type": "markdown",
   "id": "dee9ce89",
   "metadata": {},
   "source": [
    "## ridge"
   ]
  },
  {
   "cell_type": "code",
   "execution_count": 9,
   "id": "98e2adf6",
   "metadata": {},
   "outputs": [
    {
     "name": "stdout",
     "output_type": "stream",
     "text": [
      "Best parameters: {'alpha': 0.001}\n",
      "Best cross-validation score: 0.43\n",
      "train_pearsonr: 0.674, test_pearsonr: 0.660\n",
      "train_r2: 0.455, test_r2: 0.435\n"
     ]
    }
   ],
   "source": [
    "from sklearn.linear_model import Ridge\n",
    "params = {'alpha': [0.00001,0.0001, 0.001, 0.1, 1]}\n",
    "model_ridge = GridSearchCV(Ridge(),param_grid=params,cv=10,n_jobs=3)\n",
    "model_ridge.fit(X_train, y_train)\n",
    "print(\"Best parameters: {}\".format(model_ridge.best_params_))\n",
    "print(\"Best cross-validation score: {:.2f}\".format(model_ridge.best_score_))\n",
    "calculate_result(model_ridge,X_train,y_train,X_test,y_test)"
   ]
  },
  {
   "cell_type": "markdown",
   "id": "d8f82e3e",
   "metadata": {},
   "source": [
    "## SVR"
   ]
  },
  {
   "cell_type": "code",
   "execution_count": 10,
   "id": "25eec609",
   "metadata": {},
   "outputs": [
    {
     "name": "stdout",
     "output_type": "stream",
     "text": [
      "Best parameters: {'C': 200, 'gamma': 10, 'kernel': 'rbf'}\n",
      "Best cross-validation score: 0.45\n",
      "train_pearsonr: 0.697, test_pearsonr: 0.677\n",
      "train_r2: 0.481, test_r2: 0.452\n"
     ]
    }
   ],
   "source": [
    "from sklearn.svm import SVR\n",
    "params = [\n",
    "        {'kernel': ['linear'], 'C': [100, 1000, 5000]},\n",
    "        {'kernel': ['rbf'], 'C': [50,100,200], 'gamma': [10, 1, 0.1]},\n",
    "    ]\n",
    "model_svr = GridSearchCV(SVR(),param_grid=params,cv=10,n_jobs=3)\n",
    "model_svr.fit(X_train, y_train)\n",
    "print(\"Best parameters: {}\".format(model_svr.best_params_))\n",
    "print(\"Best cross-validation score: {:.2f}\".format(model_svr.best_score_))\n",
    "calculate_result(model_svr,X_train,y_train,X_test,y_test)"
   ]
  },
  {
   "cell_type": "markdown",
   "id": "5c237023",
   "metadata": {},
   "source": [
    "## RF"
   ]
  },
  {
   "cell_type": "code",
   "execution_count": 5,
   "id": "94473dfa",
   "metadata": {},
   "outputs": [
    {
     "ename": "AttributeError",
     "evalue": "'RandomForestRegressor' object has no attribute 'best_params_'",
     "output_type": "error",
     "traceback": [
      "\u001b[0;31m---------------------------------------------------------------------------\u001b[0m",
      "\u001b[0;31mAttributeError\u001b[0m                            Traceback (most recent call last)",
      "\u001b[0;32m/tmp/ipykernel_9454/3539430142.py\u001b[0m in \u001b[0;36m<module>\u001b[0;34m\u001b[0m\n\u001b[1;32m      9\u001b[0m \u001b[0mmodel_rf\u001b[0m \u001b[0;34m=\u001b[0m \u001b[0mRandomForestRegressor\u001b[0m\u001b[0;34m(\u001b[0m\u001b[0mn_estimators\u001b[0m\u001b[0;34m=\u001b[0m\u001b[0;36m200\u001b[0m\u001b[0;34m,\u001b[0m\u001b[0mmax_features\u001b[0m\u001b[0;34m=\u001b[0m\u001b[0;36m315\u001b[0m\u001b[0;34m,\u001b[0m\u001b[0mmax_depth\u001b[0m\u001b[0;34m=\u001b[0m\u001b[0;36m29\u001b[0m\u001b[0;34m,\u001b[0m\u001b[0mmin_samples_split\u001b[0m\u001b[0;34m=\u001b[0m\u001b[0;36m11\u001b[0m\u001b[0;34m,\u001b[0m\u001b[0mn_jobs\u001b[0m\u001b[0;34m=\u001b[0m\u001b[0;34m-\u001b[0m\u001b[0;36m1\u001b[0m\u001b[0;34m)\u001b[0m\u001b[0;34m\u001b[0m\u001b[0;34m\u001b[0m\u001b[0m\n\u001b[1;32m     10\u001b[0m \u001b[0mmodel_rf\u001b[0m\u001b[0;34m.\u001b[0m\u001b[0mfit\u001b[0m\u001b[0;34m(\u001b[0m\u001b[0mX_train\u001b[0m\u001b[0;34m,\u001b[0m \u001b[0my_train\u001b[0m\u001b[0;34m)\u001b[0m\u001b[0;34m\u001b[0m\u001b[0;34m\u001b[0m\u001b[0m\n\u001b[0;32m---> 11\u001b[0;31m \u001b[0mprint\u001b[0m\u001b[0;34m(\u001b[0m\u001b[0;34m\"Best parameters: {}\"\u001b[0m\u001b[0;34m.\u001b[0m\u001b[0mformat\u001b[0m\u001b[0;34m(\u001b[0m\u001b[0mmodel_rf\u001b[0m\u001b[0;34m.\u001b[0m\u001b[0mbest_params_\u001b[0m\u001b[0;34m)\u001b[0m\u001b[0;34m)\u001b[0m\u001b[0;34m\u001b[0m\u001b[0;34m\u001b[0m\u001b[0m\n\u001b[0m\u001b[1;32m     12\u001b[0m \u001b[0mprint\u001b[0m\u001b[0;34m(\u001b[0m\u001b[0;34m\"Best cross-validation score: {:.2f}\"\u001b[0m\u001b[0;34m.\u001b[0m\u001b[0mformat\u001b[0m\u001b[0;34m(\u001b[0m\u001b[0mmodel_rf\u001b[0m\u001b[0;34m.\u001b[0m\u001b[0mbest_score_\u001b[0m\u001b[0;34m)\u001b[0m\u001b[0;34m)\u001b[0m\u001b[0;34m\u001b[0m\u001b[0;34m\u001b[0m\u001b[0m\n\u001b[1;32m     13\u001b[0m \u001b[0mcalculate_result\u001b[0m\u001b[0;34m(\u001b[0m\u001b[0mmodel_rf\u001b[0m\u001b[0;34m,\u001b[0m\u001b[0mX_train\u001b[0m\u001b[0;34m,\u001b[0m\u001b[0my_train\u001b[0m\u001b[0;34m,\u001b[0m\u001b[0mX_test\u001b[0m\u001b[0;34m,\u001b[0m\u001b[0my_test\u001b[0m\u001b[0;34m)\u001b[0m\u001b[0;34m\u001b[0m\u001b[0;34m\u001b[0m\u001b[0m\n",
      "\u001b[0;31mAttributeError\u001b[0m: 'RandomForestRegressor' object has no attribute 'best_params_'"
     ]
    }
   ],
   "source": [
    "from sklearn.ensemble import RandomForestRegressor\n",
    "from sklearn.model_selection import cross_val_score\n",
    "from sklearn.model_selection import RandomizedSearchCV\n",
    "from scipy.stats import randint\n",
    "# params = { 'n_estimators':randint(low=300,high=600),\n",
    "#     'max_depth':randint(low=20,high=50),\n",
    "#     'max_depth':randint(low=5,high=30)}\n",
    "# model_rf = RandomizedSearchCV(RandomForestRegressor(),param_distributions=params,n_iter=50,cv=10,n_jobs=5)\n",
    "model_rf = RandomForestRegressor(n_estimators=200,max_features=315,max_depth=29,min_samples_split=11,n_jobs=-1)\n",
    "model_rf.fit(X_train, y_train)\n",
    "# print(\"Best parameters: {}\".format(model_rf.best_params_))\n",
    "# print(\"Best cross-validation score: {:.2f}\".format(model_rf.best_score_))\n",
    "calculate_result(model_rf,X_train,y_train,X_test,y_test)"
   ]
  },
  {
   "cell_type": "code",
   "execution_count": 6,
   "id": "97e68afd",
   "metadata": {},
   "outputs": [
    {
     "name": "stdout",
     "output_type": "stream",
     "text": [
      "train_pearsonr: 0.962, test_pearsonr: 0.653\n",
      "train_r2: 0.860, test_r2: 0.406\n"
     ]
    }
   ],
   "source": [
    "calculate_result(model_rf,X_train,y_train,X_test,y_test)"
   ]
  },
  {
   "cell_type": "code",
   "execution_count": null,
   "id": "fe78e232",
   "metadata": {},
   "outputs": [],
   "source": []
  }
 ],
 "metadata": {
  "kernelspec": {
   "display_name": "Python [conda env:tf_2.4] *",
   "language": "python",
   "name": "conda-env-tf_2.4-py"
  },
  "language_info": {
   "codemirror_mode": {
    "name": "ipython",
    "version": 3
   },
   "file_extension": ".py",
   "mimetype": "text/x-python",
   "name": "python",
   "nbconvert_exporter": "python",
   "pygments_lexer": "ipython3",
   "version": "3.7.16"
  }
 },
 "nbformat": 4,
 "nbformat_minor": 5
}
